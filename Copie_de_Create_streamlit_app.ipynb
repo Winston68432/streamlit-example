{
  "nbformat": 4,
  "nbformat_minor": 0,
  "metadata": {
    "colab": {
      "provenance": [],
      "include_colab_link": true
    },
    "kernelspec": {
      "name": "python3",
      "display_name": "Python 3"
    }
  },
  "cells": [
    {
      "cell_type": "markdown",
      "metadata": {
        "id": "view-in-github",
        "colab_type": "text"
      },
      "source": [
        "<a href=\"https://colab.research.google.com/github/Winston68432/streamlit-example/blob/master/Copie_de_Create_streamlit_app.ipynb\" target=\"_parent\"><img src=\"https://colab.research.google.com/assets/colab-badge.svg\" alt=\"Open In Colab\"/></a>"
      ]
    },
    {
      "cell_type": "markdown",
      "metadata": {
        "id": "vWmc_s2ezvU0"
      },
      "source": [
        "# Run streamlit app from a Google Colab Notebook\n",
        "> Created by [Manuel Romero](https://twitter.com/mrm8488)"
      ]
    },
    {
      "cell_type": "code",
      "metadata": {
        "id": "RvlYkCQ9vFiy"
      },
      "source": [
        "!pip install -q streamlit"
      ],
      "execution_count": null,
      "outputs": []
    },
    {
      "cell_type": "code",
      "source": [],
      "metadata": {
        "id": "an2C3c_0Ooi9"
      },
      "execution_count": null,
      "outputs": []
    },
    {
      "cell_type": "markdown",
      "metadata": {
        "id": "waCfwniZOow8"
      },
      "source": [
        "## Create a streamlit app example\n"
      ]
    },
    {
      "cell_type": "code",
      "source": [
        "import streamlit as st\n",
        "import pandas as pd\n",
        "import numpy as np\n",
        "import matplotlib.pyplot as plt\n",
        "\n",
        "#Titre\n",
        "st.title(\"Le coefficient de Gini appliqué au basket ball\")\n",
        "\n",
        "#En-tête\n",
        "st.header(\"La courbe de Lorenz\")\n",
        "\n",
        "#Ecrire texte\n",
        "st.write(\"La courbe de Lorenz est une représentation graphique de la distribution d'une variable (revenu, patrimoine, etc.) au sein d'une population. Elle permet de calculer le coefficient de Gini, qui mesure l'inégalité de cette variable dans une population donnée. Dans notre cas, le but est de vérifier si la densité des joueurs au sein d'une équipe est homogène ou hétérogène.\")\n",
        "\n",
        "# Analyse de deux équipes\n",
        "\n",
        "#En-tête\n",
        "st.header(\"Deux équipes analysées: Les San Antonio Spurs et les Houston Rockets\")\n",
        "\n",
        "#Ecrire texte\n",
        "st.write(\"Les San Antonio Spurs tendent à être plus collectif, se reposant sur un trio de joueurs performants en terme de moyenne de nombre de points tandis que les Houston Rockets est une équipe qui se repose plus sur les compétences d'un seul joueur\")\n",
        "\n",
        "\n",
        "\n",
        "#Moyenne du nombre de points de l'équipe des San Antonio Spurs de 2000 à 2010\n",
        "\n",
        "#En-tête\n",
        "st.header(\"Moyenne du nombre de points de l'équipe des San Antonio Spurs de 2000 à 2010\")\n",
        "\n",
        "#Sous en-tête\n",
        "st.subheader(\"Moyenne du nombre de points de l'équipe des San Antonio Spurs pour la saison 2000/2001\")\n",
        "\n",
        "\n",
        "df1 = pd.DataFrame(columns=['Joueur San Antonio Spurs','PTS','Cpl','CPTS','Cpl%','CPTS%'], index=[1,2,3,4,5,6,7,8,9,10,11,12,13,14,15])\n",
        "\n",
        "df1\n",
        "\n",
        "df1.loc[1] = pd.Series({'Joueur San Antonio Spurs':'Shawnelle Scott','PTS':1.6,'Cpl':1})\n",
        "df1.loc[2] = pd.Series({'Joueur San Antonio Spurs':'Ira Newble','PTS':2,'Cpl':2})\n",
        "df1.loc[3] = pd.Series({'Joueur San Antonio Spurs':'Jaren Jackson','PTS':2.4,'Cpl':3})\n",
        "df1.loc[4] = pd.Series({'Joueur San Antonio Spurs':'Derrick Dial','PTS':2.6,'Cpl':4})\n",
        "df1.loc[5] = pd.Series({'Joueur San Antonio Spurs':'Steve Kerr','PTS':3.3,'Cpl':5})\n",
        "df1.loc[6] = pd.Series({'Joueur San Antonio Spurs':'Samaki Walker','PTS':5.3,'Cpl':6})\n",
        "df1.loc[7] = pd.Series({'Joueur San Antonio Spurs':'Danny Ferry','PTS':5.6,'Cpl':7})\n",
        "df1.loc[8] = pd.Series({'Joueur San Antonio Spurs':'Avery Johnson','PTS':5.6,'Cpl':8})\n",
        "df1.loc[9] = pd.Series({'Joueur San Antonio Spurs':'Terry Porter','PTS':7.2,'Cpl':9})\n",
        "df1.loc[10] = pd.Series({'Joueur San Antonio Spurs':'Malik Rose','PTS':7.7,'Cpl':10})\n",
        "df1.loc[11] = pd.Series({'Joueur San Antonio Spurs':'Sean Elliott','PTS':7.9,'Cpl':11})\n",
        "df1.loc[12] = pd.Series({'Joueur San Antonio Spurs':'Antonio Daniels','PTS':9.4,'Cpl':12})\n",
        "df1.loc[13] = pd.Series({'Joueur San Antonio Spurs':'David Robinson','PTS':14.4,'Cpl':13})\n",
        "df1.loc[14] = pd.Series({'Joueur San Antonio Spurs':'Derek Anderson','PTS':15.5,'Cpl':14})\n",
        "df1.loc[15] = pd.Series({'Joueur San Antonio Spurs':'Tim Duncan','PTS':22.2,'Cpl':15})\n",
        "\n",
        "df1[\"CPTS\"] = np.cumsum(df1[\"PTS\"])\n",
        "\n",
        "df1[\"Cpl%\"] = df1[\"Cpl\"].apply(lambda x : ((x/df1.loc[len(df1),\"Cpl\"])*100))\n",
        "\n",
        "df1[\"CPTS%\"] = df1[\"CPTS\"].apply(lambda x : (x/df1.loc[len(df1),\"CPTS\"])*100)\n",
        "\n",
        "df1\n",
        "\n",
        "#df1 = pd.read_csv(\"football_data.csv\")\n",
        "if st.checkbox('Show dataframe'):\n",
        "    st.write(df1)\n",
        "\n",
        "#Sous en-tête\n",
        "st.subheader(\"Courbe de Lorenz et coefficient de Gini des San Antonio Spurs pour la saison 2000/2001\")\n",
        "\n",
        "\n",
        "# assurez-vous que votre arr est d’abord trié des valeurs les plus basses aux plus élevées!\n",
        "arr = np.array([1.6,2,2.4,2.6,3.3,5.3,5.6,5.6,7.2,7.7,7.9,9.4,14.4,15.5,22.2])\n",
        "\n",
        "def gini(arr):\n",
        "    count = arr.size\n",
        "    coefficient = 2 / count\n",
        "    indexes = np.arange(1, count + 1)\n",
        "    weighted_sum = (indexes * arr).sum()\n",
        "    total = arr.sum()\n",
        "    constant = (count + 1) / count\n",
        "    return coefficient * weighted_sum / total - constant\n",
        "\n",
        "def lorenz(arr):\n",
        "    # cela divise la somme du préfixe par la somme totale\n",
        "    # cela garantit que toutes les valeurs sont comprises entre 0 et 1,0\n",
        "    scaled_prefix_sum = arr.cumsum() / arr.sum()\n",
        "    # cela ajoute la valeur 0 (parce que 0% de toutes les personnes ont 0% de toute la richesse)\n",
        "    return np.insert(scaled_prefix_sum, 0, 0)\n",
        "\n",
        "# afficher l’index de gini!\n",
        "print(gini(arr))\n",
        "\n",
        "lorenz_curve = lorenz(arr)\n",
        "\n",
        "# nous avons besoin que les valeurs X soient comprises entre 0,0 et 1,0\n",
        "plt.plot(np.linspace(0.0, 1.0, lorenz_curve.size), lorenz_curve)\n",
        "# tracer la courbe d’égalité parfaite en ligne droite\n",
        "plt.plot([0,1], [0,1])\n",
        "plt.show()\n",
        "\n",
        "\n"
      ],
      "metadata": {
        "id": "t71fH_hjU3pH"
      },
      "execution_count": null,
      "outputs": []
    },
    {
      "cell_type": "markdown",
      "metadata": {
        "id": "xZlEJkmSOoxC"
      },
      "source": [
        "## Install localtunnel"
      ]
    },
    {
      "cell_type": "code",
      "metadata": {
        "colab": {
          "base_uri": "https://localhost:8080/"
        },
        "outputId": "fb5a9aa2-520d-4c4f-f5d0-2643dba4cc63",
        "id": "ZAyqQCQVOoxC"
      },
      "source": [
        "!npm install localtunnel"
      ],
      "execution_count": null,
      "outputs": [
        {
          "output_type": "stream",
          "name": "stdout",
          "text": [
            "\u001b[K\u001b[?25h\u001b[37;40mnpm\u001b[0m \u001b[0m\u001b[30;43mWARN\u001b[0m \u001b[0m\u001b[35msaveError\u001b[0m ENOENT: no such file or directory, open '/content/package.json'\n",
            "\u001b[0m\u001b[37;40mnpm\u001b[0m \u001b[0m\u001b[30;43mWARN\u001b[0m \u001b[0m\u001b[35menoent\u001b[0m ENOENT: no such file or directory, open '/content/package.json'\n",
            "\u001b[0m\u001b[37;40mnpm\u001b[0m \u001b[0m\u001b[30;43mWARN\u001b[0m\u001b[35m\u001b[0m content No description\n",
            "\u001b[0m\u001b[37;40mnpm\u001b[0m \u001b[0m\u001b[30;43mWARN\u001b[0m\u001b[35m\u001b[0m content No repository field.\n",
            "\u001b[0m\u001b[37;40mnpm\u001b[0m \u001b[0m\u001b[30;43mWARN\u001b[0m\u001b[35m\u001b[0m content No README data\n",
            "\u001b[0m\u001b[37;40mnpm\u001b[0m \u001b[0m\u001b[30;43mWARN\u001b[0m\u001b[35m\u001b[0m content No license field.\n",
            "\u001b[0m\n",
            "\u001b[K\u001b[?25h+ localtunnel@2.0.2\n",
            "updated 1 package and audited 36 packages in 0.605s\n",
            "\n",
            "3 packages are looking for funding\n",
            "  run `npm fund` for details\n",
            "\n",
            "found \u001b[92m0\u001b[0m vulnerabilities\n",
            "\n",
            "\u001b[K\u001b[?25h"
          ]
        }
      ]
    },
    {
      "cell_type": "markdown",
      "source": [
        "## Run streamlit in background"
      ],
      "metadata": {
        "id": "kccYE2lkN20y"
      }
    },
    {
      "cell_type": "code",
      "source": [
        "!streamlit run /content/app.py &>/content/logs.txt &"
      ],
      "metadata": {
        "id": "Zv912rRAN0fs"
      },
      "execution_count": null,
      "outputs": []
    },
    {
      "cell_type": "markdown",
      "source": [
        "## Expose the port 8501\n",
        "Then just click in the `url` showed.\n",
        "\n",
        "A `log.txt`file will be created."
      ],
      "metadata": {
        "id": "h_KW9juhOCuH"
      }
    },
    {
      "cell_type": "code",
      "source": [
        "!npx localtunnel --port 8501"
      ],
      "metadata": {
        "id": "XTGAizLhOIgC",
        "outputId": "206a0dba-496a-4e73-aff7-c10755feeaf7",
        "colab": {
          "base_uri": "https://localhost:8080/"
        }
      },
      "execution_count": null,
      "outputs": [
        {
          "output_type": "stream",
          "name": "stdout",
          "text": [
            "\u001b[K\u001b[?25hnpx: installed 22 in 2.412s\n",
            "^C\n"
          ]
        }
      ]
    },
    {
      "cell_type": "markdown",
      "metadata": {
        "id": "GVz-H__pOoxG"
      },
      "source": [
        "[![ko-fi](https://www.ko-fi.com/img/githubbutton_sm.svg)](https://ko-fi.com/Y8Y3VYYE)"
      ]
    }
  ]
}